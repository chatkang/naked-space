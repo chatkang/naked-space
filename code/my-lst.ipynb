{
 "cells": [
  {
   "cell_type": "code",
   "execution_count": 1,
   "metadata": {},
   "outputs": [],
   "source": [
    "import sys"
   ]
  },
  {
   "cell_type": "code",
   "execution_count": 2,
   "metadata": {},
   "outputs": [
    {
     "data": {
      "text/plain": [
       "'3.10.4 (main, Apr  3 2023, 22:35:52) [GCC 9.4.0]'"
      ]
     },
     "execution_count": 2,
     "metadata": {},
     "output_type": "execute_result"
    }
   ],
   "source": [
    "sys.version"
   ]
  },
  {
   "cell_type": "code",
   "execution_count": 3,
   "metadata": {},
   "outputs": [],
   "source": [
    "orgPwd = int(input('ID로 사용할 8자리의 정수를 입력하세요 >> '))"
   ]
  },
  {
   "cell_type": "code",
   "execution_count": 4,
   "metadata": {},
   "outputs": [
    {
     "name": "stdout",
     "output_type": "stream",
     "text": [
      "입력한 ID: 67548976\n",
      "암호화하여 저장된 ID: 93876690\n"
     ]
    }
   ],
   "source": [
    "#orgPwd = 12345678\n",
    "keyMask = 27182818 #키로 사용할 정수 하나를 저장 \n",
    "encPwd = orgPwd ^ keyMask #ID를 암호화시켜 저장\n",
    "\n",
    "print('입력한 ID: %d' % orgPwd)\n",
    "print('암호화하여 저장된 ID: %d' % encPwd)"
   ]
  },
  {
   "cell_type": "code",
   "execution_count": 5,
   "metadata": {},
   "outputs": [],
   "source": [
    "inPwd = int(input('로그인할 ID 입력하세요 >> '))"
   ]
  },
  {
   "cell_type": "code",
   "execution_count": 6,
   "metadata": {},
   "outputs": [
    {
     "name": "stdout",
     "output_type": "stream",
     "text": [
      "로그인 성공: False\n"
     ]
    }
   ],
   "source": [
    "#inPwd = 12345678\n",
    "result = encPwd ^ keyMask #키로 암호화된 것을 복호화\n",
    "print('로그인 성공: {}'.format(inPwd == result))"
   ]
  },
  {
   "attachments": {},
   "cell_type": "markdown",
   "metadata": {},
   "source": [
    "### f 문자열"
   ]
  },
  {
   "cell_type": "code",
   "execution_count": 7,
   "metadata": {},
   "outputs": [
    {
     "data": {
      "text/plain": [
       "3.141592653589793"
      ]
     },
     "execution_count": 7,
     "metadata": {},
     "output_type": "execute_result"
    }
   ],
   "source": [
    "import math\n",
    "math.pi"
   ]
  },
  {
   "cell_type": "code",
   "execution_count": 8,
   "metadata": {},
   "outputs": [
    {
     "data": {
      "text/plain": [
       "2.718281828459045"
      ]
     },
     "execution_count": 8,
     "metadata": {},
     "output_type": "execute_result"
    }
   ],
   "source": [
    "math.e"
   ]
  },
  {
   "cell_type": "code",
   "execution_count": 15,
   "metadata": {},
   "outputs": [
    {
     "data": {
      "text/plain": [
       "'pi: 3.142'"
      ]
     },
     "execution_count": 15,
     "metadata": {},
     "output_type": "execute_result"
    }
   ],
   "source": [
    "f'pi: {math.pi:.3f}'"
   ]
  },
  {
   "cell_type": "code",
   "execution_count": 10,
   "metadata": {},
   "outputs": [
    {
     "data": {
      "text/plain": [
       "'e:      2.718'"
      ]
     },
     "execution_count": 10,
     "metadata": {},
     "output_type": "execute_result"
    }
   ],
   "source": [
    "f'e: {math.e:10.3f}'"
   ]
  },
  {
   "cell_type": "code",
   "execution_count": 11,
   "metadata": {},
   "outputs": [
    {
     "data": {
      "text/plain": [
       "'pi: 3.142'"
      ]
     },
     "execution_count": 11,
     "metadata": {},
     "output_type": "execute_result"
    }
   ],
   "source": [
    "'pi: {:.3f}'.format(math.pi)"
   ]
  },
  {
   "cell_type": "code",
   "execution_count": 17,
   "metadata": {},
   "outputs": [
    {
     "name": "stdout",
     "output_type": "stream",
     "text": [
      "5 is odd\n"
     ]
    }
   ],
   "source": [
    "x = 5\n",
    "if x % 2 == 0:\n",
    "    s = 'even'\n",
    "else:\n",
    "    s = 'odd'\n",
    "print(f'{x} is {s}')"
   ]
  },
  {
   "cell_type": "code",
   "execution_count": 19,
   "metadata": {},
   "outputs": [
    {
     "name": "stdout",
     "output_type": "stream",
     "text": [
      "x: 10 is even\n"
     ]
    }
   ],
   "source": [
    "x = 10\n",
    "s = 'even' if x % 2 == 0 else 'odd'\n",
    "print(f'x: {x} is {s}')"
   ]
  },
  {
   "cell_type": "code",
   "execution_count": 20,
   "metadata": {},
   "outputs": [
    {
     "name": "stdout",
     "output_type": "stream",
     "text": [
      "미세먼지 농도: 30.00, 등급: 좋음\n"
     ]
    }
   ],
   "source": [
    "#%% 04-05dustforecast.py\t미세 먼지 예보\n",
    "PM = float(input('미세먼지(10마이크로그램)의 농도는 ? '))\n",
    "#PM = 90 #particulate matter: 미세먼지\n",
    "if 151 <= PM:\n",
    "    print('미세먼지 농도: {:.2f}, 등급: {}'.format(PM, '매우 나쁨'))\n",
    "elif 81 <= PM:\n",
    "    print('미세먼지 농도: {:.2f}, 등급: {}'.format(PM, '나쁨'))\n",
    "elif 31 <= PM:\n",
    "    print('미세먼지 농도: {:.2f}, 등급: {}'.format(PM, '보통'))\n",
    "else:\n",
    "    print('미세먼지 농도: {:.2f}, 등급: {}'.format(PM, '좋음'))\n"
   ]
  }
 ],
 "metadata": {
  "kernelspec": {
   "display_name": "Python 3",
   "language": "python",
   "name": "python3"
  },
  "language_info": {
   "codemirror_mode": {
    "name": "ipython",
    "version": 3
   },
   "file_extension": ".py",
   "mimetype": "text/x-python",
   "name": "python",
   "nbconvert_exporter": "python",
   "pygments_lexer": "ipython3",
   "version": "3.10.4"
  },
  "orig_nbformat": 4
 },
 "nbformat": 4,
 "nbformat_minor": 2
}
