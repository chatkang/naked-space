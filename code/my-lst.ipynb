{
 "cells": [
  {
   "cell_type": "code",
   "execution_count": 1,
   "metadata": {},
   "outputs": [],
   "source": [
    "import sys"
   ]
  },
  {
   "cell_type": "code",
   "execution_count": 2,
   "metadata": {},
   "outputs": [
    {
     "data": {
      "text/plain": [
       "'3.10.4 (main, Apr  3 2023, 22:35:52) [GCC 9.4.0]'"
      ]
     },
     "execution_count": 2,
     "metadata": {},
     "output_type": "execute_result"
    }
   ],
   "source": [
    "sys.version"
   ]
  },
  {
   "cell_type": "code",
   "execution_count": 3,
   "metadata": {},
   "outputs": [],
   "source": [
    "orgPwd = int(input('ID로 사용할 8자리의 정수를 입력하세요 >> '))"
   ]
  },
  {
   "cell_type": "code",
   "execution_count": 4,
   "metadata": {},
   "outputs": [
    {
     "name": "stdout",
     "output_type": "stream",
     "text": [
      "입력한 ID: 67548976\n",
      "암호화하여 저장된 ID: 93876690\n"
     ]
    }
   ],
   "source": [
    "#orgPwd = 12345678\n",
    "keyMask = 27182818 #키로 사용할 정수 하나를 저장 \n",
    "encPwd = orgPwd ^ keyMask #ID를 암호화시켜 저장\n",
    "\n",
    "print('입력한 ID: %d' % orgPwd)\n",
    "print('암호화하여 저장된 ID: %d' % encPwd)"
   ]
  },
  {
   "cell_type": "code",
   "execution_count": 5,
   "metadata": {},
   "outputs": [],
   "source": [
    "inPwd = int(input('로그인할 ID 입력하세요 >> '))"
   ]
  },
  {
   "cell_type": "code",
   "execution_count": 6,
   "metadata": {},
   "outputs": [
    {
     "name": "stdout",
     "output_type": "stream",
     "text": [
      "로그인 성공: False\n"
     ]
    }
   ],
   "source": [
    "#inPwd = 12345678\n",
    "result = encPwd ^ keyMask #키로 암호화된 것을 복호화\n",
    "print('로그인 성공: {}'.format(inPwd == result))"
   ]
  },
  {
   "cell_type": "code",
   "execution_count": null,
   "metadata": {},
   "outputs": [],
   "source": []
  }
 ],
 "metadata": {
  "kernelspec": {
   "display_name": "Python 3",
   "language": "python",
   "name": "python3"
  },
  "language_info": {
   "codemirror_mode": {
    "name": "ipython",
    "version": 3
   },
   "file_extension": ".py",
   "mimetype": "text/x-python",
   "name": "python",
   "nbconvert_exporter": "python",
   "pygments_lexer": "ipython3",
   "version": "3.10.4"
  },
  "orig_nbformat": 4
 },
 "nbformat": 4,
 "nbformat_minor": 2
}
